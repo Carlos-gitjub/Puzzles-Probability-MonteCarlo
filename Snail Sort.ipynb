{
 "cells": [
  {
   "attachments": {
    "image.png": {
     "image/png": "[encoded data removed]"
    }
   },
   "cell_type": "markdown",
   "id": "9ac6b60e",
   "metadata": {},
   "source": [
    "# Instructions\n",
    "\n",
    "## Snail Sort\n",
    "\n",
    "### *NOTE:(Taken from Codewars, kata \"Snail\", 4 kyu level)\n",
    "\n",
    "Given an n x n array, return the array elements arranged from outermost elements to the middle element, traveling clockwise.\n",
    "\n",
    "array = [[1,2,3],\n",
    "         [4,5,6],\n",
    "         [7,8,9]]\n",
    "         \n",
    "snail(array) #=> [1,2,3,6,9,8,7,4,5]\n",
    "\n",
    "For better understanding, please follow the numbers of the next array consecutively:\n",
    "\n",
    "array = [[1,2,3],\n",
    "         [8,9,4],\n",
    "         [7,6,5]]\n",
    "\n",
    "snail(array) #=> [1,2,3,4,5,6,7,8,9]\n",
    "\n",
    "This image will illustrate things more clearly:\n",
    "\n",
    "![image.png](attachment:image.png)"
   ]
  },
  {
   "cell_type": "markdown",
   "id": "241d6360",
   "metadata": {},
   "source": [
    "### Observations"
   ]
  },
  {
   "cell_type": "code",
   "execution_count": 12,
   "id": "0c94c284",
   "metadata": {},
   "outputs": [
    {
     "name": "stdout",
     "output_type": "stream",
     "text": [
      "[[1 2 3]\n",
      " [4 5 6]\n",
      " [7 8 9]]\n"
     ]
    }
   ],
   "source": [
    "# 3, 2, 2, 1, 1\n",
    "# 4, 3, 3, 2, 2, 1, 1\n",
    "import numpy as np\n",
    "array =np.array([[1,2,3],\n",
    "                 [4,5,6],\n",
    "                 [7,8,9]])\n",
    "\n",
    "#array[1][2]\n",
    "array.shape\n",
    "print(array) # takes 3, 2, 2, 1, 1"
   ]
  },
  {
   "cell_type": "code",
   "execution_count": 11,
   "id": "3fcc91d8",
   "metadata": {},
   "outputs": [
    {
     "name": "stdout",
     "output_type": "stream",
     "text": [
      "[[ 1  2  3  4  5]\n",
      " [ 6  7  8  9 10]\n",
      " [11 12 13 14 15]\n",
      " [16 17 18 19 20]\n",
      " [21 22 23 24 25]]\n"
     ]
    }
   ],
   "source": [
    "matrix = np.arange(1, 26).reshape((5, 5))\n",
    "print(matrix) # 5, 4, 4, 3, 3, 2, 2, 1, 1"
   ]
  },
  {
   "cell_type": "code",
   "execution_count": 13,
   "id": "aff5c822",
   "metadata": {
    "scrolled": true
   },
   "outputs": [
    {
     "name": "stdout",
     "output_type": "stream",
     "text": [
      "[[ 1  2  3  4  5  6]\n",
      " [ 7  8  9 10 11 12]\n",
      " [13 14 15 16 17 18]\n",
      " [19 20 21 22 23 24]\n",
      " [25 26 27 28 29 30]\n",
      " [31 32 33 34 35 36]]\n"
     ]
    }
   ],
   "source": [
    "matrix = np.arange(1, 37).reshape((6, 6))\n",
    "print(matrix) # 6, 5, 5, 4, 4, 3, 3, 2, 2, 1, 1"
   ]
  },
  {
   "cell_type": "code",
   "execution_count": 14,
   "id": "a9638c24",
   "metadata": {},
   "outputs": [
    {
     "name": "stdout",
     "output_type": "stream",
     "text": [
      "[[ 1  2  3  4  5  6  7]\n",
      " [ 8  9 10 11 12 13 14]\n",
      " [15 16 17 18 19 20 21]\n",
      " [22 23 24 25 26 27 28]\n",
      " [29 30 31 32 33 34 35]\n",
      " [36 37 38 39 40 41 42]\n",
      " [43 44 45 46 47 48 49]]\n"
     ]
    }
   ],
   "source": [
    "matrix = np.arange(1,50).reshape((7, 7))\n",
    "print(matrix) # 7, 6, 6, 5, 5, 4, 4, 3, 3, 2, 2, 1, 1"
   ]
  },
  {
   "cell_type": "markdown",
   "id": "7b10022e",
   "metadata": {},
   "source": [
    "We can observe how the number of elements of the matrix that the snail takes in each straight move (before it turns a corner) follows the pattern: n, n-1, n-1, n-2, n-2,..., 1, 1"
   ]
  },
  {
   "cell_type": "markdown",
   "id": "e6ff8506",
   "metadata": {},
   "source": [
    "# My solution"
   ]
  },
  {
   "cell_type": "code",
   "execution_count": 3,
   "id": "1cd07229",
   "metadata": {},
   "outputs": [],
   "source": [
    "def snail(snail_map):\n",
    "    l=[]\n",
    "    index_last_row = None\n",
    "    index_last_col = None\n",
    "    n_movements=len(snail_map)\n",
    "    if(snail_map==[[]]):\n",
    "        l=[]\n",
    "        return l\n",
    "    for i in range(0,n_movements):\n",
    "        l.append(snail_map[0][i])\n",
    "    index_last_row = 0\n",
    "    index_last_col = i\n",
    "    n_movements+=-1\n",
    "    \n",
    "    while(n_movements>=1):\n",
    "        # down\n",
    "        a=index_last_row + n_movements\n",
    "        for i in range(index_last_row+1, a+1):\n",
    "            l.append(snail_map[i][index_last_col])\n",
    "        index_last_row = i\n",
    "        # left\n",
    "        a=index_last_col - n_movements\n",
    "        for i in range(index_last_col-1, a-1, -1):\n",
    "            l.append(snail_map[index_last_row][i])\n",
    "        index_last_col = i\n",
    "        n_movements+=-1\n",
    "        \n",
    "        if(n_movements>=1):\n",
    "            # up\n",
    "            a=index_last_row - n_movements\n",
    "            for i in range(index_last_row-1, a-1, -1):\n",
    "                l.append(snail_map[i][index_last_col])\n",
    "            index_last_row = i\n",
    "            # right\n",
    "            a=index_last_col + n_movements\n",
    "            for i in range(index_last_col+1, a +1):\n",
    "                l.append(snail_map[index_last_row][i])\n",
    "            index_last_col = i\n",
    "            n_movements+=-1\n",
    "    return l"
   ]
  },
  {
   "cell_type": "markdown",
   "id": "93f88c6c",
   "metadata": {},
   "source": [
    "## Some tests"
   ]
  },
  {
   "cell_type": "code",
   "execution_count": 4,
   "id": "6c40d1bf",
   "metadata": {},
   "outputs": [
    {
     "name": "stdout",
     "output_type": "stream",
     "text": [
      "[1, 2, 3, 6, 9, 8, 7, 4, 5]\n"
     ]
    }
   ],
   "source": [
    "matrix = [[1,2,3],\n",
    "        [4,5,6],\n",
    "        [7,8,9]] \n",
    "snail_sort=snail(matrix)\n",
    "print(snail_sort)"
   ]
  },
  {
   "cell_type": "code",
   "execution_count": 9,
   "id": "f3727923",
   "metadata": {},
   "outputs": [
    {
     "name": "stdout",
     "output_type": "stream",
     "text": [
      "[1, 2, 3, 4, 5, 10, 15, 20, 25, 24, 23, 22, 21, 16, 11, 6, 7, 8, 9, 14, 19, 18, 17, 12, 13]\n"
     ]
    }
   ],
   "source": [
    "matrix =[[1,2,3,4,5],\n",
    "        [6,7,8,9,10],\n",
    "        [11,12,13,14,15],\n",
    "        [16,17,18,19,20],\n",
    "        [21,22,23,24,25]]\n",
    "snail_sort=snail(matrix)\n",
    "print(snail_sort)"
   ]
  },
  {
   "cell_type": "code",
   "execution_count": 15,
   "id": "7544bbd0",
   "metadata": {},
   "outputs": [
    {
     "name": "stdout",
     "output_type": "stream",
     "text": [
      "[1, 2, 3, 4, 5, 6, 7, 14, 21, 28, 35, 42, 49, 48, 47, 46, 45, 44, 43, 36, 29, 22, 15, 8, 9, 10, 11, 12, 13, 20, 27, 34, 41, 40, 39, 38, 37, 30, 23, 16, 17, 18, 19, 26, 33, 32, 31, 24, 25]\n"
     ]
    }
   ],
   "source": [
    "matrix = [[1,2,3,4,5,6,7],\n",
    "        [8,9,10,11,12,13,14],\n",
    "        [15,16,17,18,19,20,21],\n",
    "        [22,23,24,25,26,27,28],\n",
    "        [29,30,31,32,33,34,35],\n",
    "        [36,37,38,39,40,41,42],\n",
    "        [43,44,45,46,47,48,49]]\n",
    "snail_sort=snail(matrix)\n",
    "print(snail_sort)"
   ]
  }
 ],
 "metadata": {
  "kernelspec": {
   "display_name": "Python 3 (ipykernel)",
   "language": "python",
   "name": "python3"
  },
  "language_info": {
   "codemirror_mode": {
    "name": "ipython",
    "version": 3
   },
   "file_extension": ".py",
   "mimetype": "text/x-python",
   "name": "python",
   "nbconvert_exporter": "python",
   "pygments_lexer": "ipython3",
   "version": "3.9.13"
  }
 },
 "nbformat": 4,
 "nbformat_minor": 5
}
