{
 "cells": [
  {
   "cell_type": "markdown",
   "id": "9038aa5f",
   "metadata": {},
   "source": [
    "A standard deck has 52 cards, of which four are aces. When the deck is shuffled, what is the most likely position of the first ace (the position of the ace that appears first when going through the deck)?"
   ]
  },
  {
   "cell_type": "code",
   "execution_count": 28,
   "id": "727bc0f5",
   "metadata": {
    "scrolled": true
   },
   "outputs": [
    {
     "data": {
      "text/plain": [
       "array([[ 1,  2,  3,  4,  5,  6,  7,  8,  9, 10, 11, 12, 13],\n",
       "       [ 1,  2,  3,  4,  5,  6,  7,  8,  9, 10, 11, 12, 13],\n",
       "       [ 1,  2,  3,  4,  5,  6,  7,  8,  9, 10, 11, 12, 13],\n",
       "       [ 1,  2,  3,  4,  5,  6,  7,  8,  9, 10, 11, 12, 13]])"
      ]
     },
     "execution_count": 28,
     "metadata": {},
     "output_type": "execute_result"
    }
   ],
   "source": [
    "# generation of the deck (1 = ace, etc)\n",
    "import numpy as np\n",
    "\n",
    "x = np.arange(1,14)\n",
    "x = np.expand_dims(x, axis=0)\n",
    "deck = np.concatenate([x] * 4, axis=0)\n",
    "deck"
   ]
  },
  {
   "cell_type": "code",
   "execution_count": 29,
   "id": "a519c641",
   "metadata": {},
   "outputs": [],
   "source": [
    "def shuffle_deck(deck):\n",
    "    deck=deck.copy()\n",
    "    deck=deck.flatten()\n",
    "    np.random.shuffle(deck)\n",
    "    return deck"
   ]
  },
  {
   "cell_type": "code",
   "execution_count": 30,
   "id": "0ef08b53",
   "metadata": {},
   "outputs": [],
   "source": [
    "def simulations_and_return_position_counts(N):\n",
    "    positions = np.zeros((52, 2))\n",
    "    positions[:, 0] = np.arange(52)\n",
    "    for i in range(N):\n",
    "        s = shuffle_deck(deck)\n",
    "        first_ace_position = np.argwhere(s == 1)[0][0]\n",
    "        positions[positions[:, 0]==first_ace_position, 1] += 1\n",
    "    return positions       "
   ]
  },
  {
   "cell_type": "code",
   "execution_count": 32,
   "id": "ff6914b0",
   "metadata": {},
   "outputs": [],
   "source": [
    "p=simulations_and_return_position_counts(10000);"
   ]
  },
  {
   "cell_type": "code",
   "execution_count": 33,
   "id": "ce9adf0f",
   "metadata": {},
   "outputs": [
    {
     "data": {
      "text/plain": [
       "array([[  0., 794.],\n",
       "       [  1., 751.],\n",
       "       [  2., 688.],\n",
       "       [  3., 643.],\n",
       "       [  4., 586.],\n",
       "       [  5., 558.],\n",
       "       [  6., 530.],\n",
       "       [  8., 492.],\n",
       "       [  7., 473.],\n",
       "       [  9., 424.],\n",
       "       [ 10., 402.],\n",
       "       [ 12., 323.],\n",
       "       [ 11., 313.],\n",
       "       [ 14., 301.],\n",
       "       [ 13., 289.],\n",
       "       [ 16., 265.],\n",
       "       [ 15., 257.],\n",
       "       [ 18., 204.],\n",
       "       [ 17., 193.],\n",
       "       [ 20., 187.],\n",
       "       [ 19., 183.],\n",
       "       [ 21., 135.],\n",
       "       [ 22., 135.],\n",
       "       [ 23., 124.],\n",
       "       [ 24., 110.],\n",
       "       [ 27.,  91.],\n",
       "       [ 25.,  91.],\n",
       "       [ 26.,  73.],\n",
       "       [ 28.,  64.],\n",
       "       [ 30.,  62.],\n",
       "       [ 29.,  58.],\n",
       "       [ 31.,  47.],\n",
       "       [ 32.,  32.],\n",
       "       [ 33.,  24.],\n",
       "       [ 34.,  22.],\n",
       "       [ 35.,  16.],\n",
       "       [ 37.,  15.],\n",
       "       [ 36.,  15.],\n",
       "       [ 39.,   9.],\n",
       "       [ 41.,   5.],\n",
       "       [ 40.,   4.],\n",
       "       [ 42.,   4.],\n",
       "       [ 44.,   3.],\n",
       "       [ 38.,   3.],\n",
       "       [ 43.,   1.],\n",
       "       [ 45.,   1.],\n",
       "       [ 49.,   0.],\n",
       "       [ 48.,   0.],\n",
       "       [ 50.,   0.],\n",
       "       [ 46.,   0.],\n",
       "       [ 47.,   0.],\n",
       "       [ 51.,   0.]])"
      ]
     },
     "execution_count": 33,
     "metadata": {},
     "output_type": "execute_result"
    }
   ],
   "source": [
    "# Showing positions sorted from most to least frequent position \n",
    "sorted_indices = np.argsort(-p[:, 1])\n",
    "sorted_arr = p[sorted_indices]\n",
    "sorted_arr"
   ]
  }
 ],
 "metadata": {
  "kernelspec": {
   "display_name": "Python 3 (ipykernel)",
   "language": "python",
   "name": "python3"
  },
  "language_info": {
   "codemirror_mode": {
    "name": "ipython",
    "version": 3
   },
   "file_extension": ".py",
   "mimetype": "text/x-python",
   "name": "python",
   "nbconvert_exporter": "python",
   "pygments_lexer": "ipython3",
   "version": "3.9.13"
  }
 },
 "nbformat": 4,
 "nbformat_minor": 5
}
